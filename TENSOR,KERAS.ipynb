{
  "nbformat": 4,
  "nbformat_minor": 0,
  "metadata": {
    "colab": {
      "provenance": [],
      "authorship_tag": "ABX9TyMMjQGDFHFo2i25bx45HHhz",
      "include_colab_link": true
    },
    "kernelspec": {
      "name": "python3",
      "display_name": "Python 3"
    },
    "language_info": {
      "name": "python"
    }
  },
  "cells": [
    {
      "cell_type": "markdown",
      "metadata": {
        "id": "view-in-github",
        "colab_type": "text"
      },
      "source": [
        "<a href=\"https://colab.research.google.com/github/Ilyasmbt/deep_learning/blob/main/TENSOR%2CKERAS.ipynb\" target=\"_parent\"><img src=\"https://colab.research.google.com/assets/colab-badge.svg\" alt=\"Open In Colab\"/></a>"
      ]
    },
    {
      "cell_type": "markdown",
      "source": [
        "# creating tensors\n"
      ],
      "metadata": {
        "id": "Q1x96LDmipa9"
      }
    },
    {
      "cell_type": "code",
      "source": [
        "scalar,matrix,vector,tensor"
      ],
      "metadata": {
        "id": "9H6Dwj5voHXT"
      },
      "execution_count": null,
      "outputs": []
    },
    {
      "cell_type": "code",
      "execution_count": 5,
      "metadata": {
        "colab": {
          "base_uri": "https://localhost:8080/"
        },
        "id": "_tJsObf1dwuO",
        "outputId": "230d218f-8e59-4ade-bd36-5c77eb7a0939"
      },
      "outputs": [
        {
          "output_type": "stream",
          "name": "stdout",
          "text": [
            "constant a: tf.Tensor(3, shape=(), dtype=int32)\n",
            "constant b: tf.Tensor([1. 2. 3.], shape=(3,), dtype=float32)\n",
            "constant c: tf.Tensor(\n",
            "[[1. 2.]\n",
            " [3. 4.]], shape=(2, 2), dtype=float32)\n",
            "variable v: <tf.Variable 'Variable:0' shape=(3,) dtype=float32, numpy=array([1., 2., 3.], dtype=float32)>\n",
            "random tensor r: tf.Tensor(\n",
            "[[ 2.1773214   0.6244376   1.0137291 ]\n",
            " [ 0.9316394  -0.01413546  0.23167126]\n",
            " [-0.7793717   2.1560874  -0.134206  ]], shape=(3, 3), dtype=float32)\n"
          ]
        }
      ],
      "source": [
        "import tensorflow as tf\n",
        "\n",
        "a=tf.constant(3)\n",
        "b=tf.constant([1.0,2.0,3.0])\n",
        "c=tf.constant([[1.0,2.0],[3.0,4.0]])\n",
        "print(\"constant a:\",a)\n",
        "print(\"constant b:\",b)\n",
        "print(\"constant c:\",c)\n",
        "\n",
        "v=tf.Variable([1.0,2.0,3.0])\n",
        "print(\"variable v:\",v)\n",
        "\n",
        "r=tf.random.normal([3,3], mean=0.0, stddev=1.0)\n",
        "print(\"random tensor r:\",r)"
      ]
    },
    {
      "cell_type": "markdown",
      "source": [
        "# 2 basic operation\n"
      ],
      "metadata": {
        "id": "ecn-x8uGgrP6"
      }
    },
    {
      "cell_type": "code",
      "source": [
        "import tensorflow as tf\n",
        "\n",
        "x=tf.constant([1,2,3])\n",
        "y=tf.constant([4,5,6])\n",
        "\n",
        "add_result= x +y\n",
        "mul_result= x *y\n",
        "\n",
        "print(\"addition:\",add_result.numpy())\n",
        "print(\"multiplication:\",mul_result.numpy())\n",
        "\n",
        "matrix1=tf.constant([[1,2],[3,4]])\n",
        "matrix2=tf.constant([[5,6],[7,8]])\n",
        "\n",
        "matrix_multiplication_result=tf.matmul(matrix1,matrix2)\n",
        "matrix_transpose_result=tf.transpose(matrix1)\n",
        "\n",
        "print(\"matrix multiplication:\",matrix_multiplication_result.numpy())\n",
        "print(\"matrix transpose:\",matrix_transpose_result.numpy())\n",
        "\n",
        "\n"
      ],
      "metadata": {
        "colab": {
          "base_uri": "https://localhost:8080/"
        },
        "id": "6gAq_MWKeYNg",
        "outputId": "25b72138-3e08-409e-e731-0fb317062b76"
      },
      "execution_count": 6,
      "outputs": [
        {
          "output_type": "stream",
          "name": "stdout",
          "text": [
            "addition: [5 7 9]\n",
            "multiplication: [ 4 10 18]\n",
            "matrix multiplication: [[19 22]\n",
            " [43 50]]\n",
            "matrix transpose: [[1 3]\n",
            " [2 4]]\n"
          ]
        }
      ]
    },
    {
      "cell_type": "markdown",
      "source": [
        "# 3 Reshaping and Slicing"
      ],
      "metadata": {
        "id": "P8J-R3DGkX_H"
      }
    },
    {
      "cell_type": "code",
      "source": [
        "import tensorflow as tf\n",
        "\n",
        "tensor1=tf.constant([1,2,3,4,5,6,7,8,9])\n",
        "tensor2=tf.constant([[1,2,3],[4,5,6]])\n",
        "reshaped_tensor=tf.reshape(tensor1,(3,3))    #reshape to 3 rows ,3 columns\n",
        "\n",
        "print(\"original tensor: \\n\",tensor1.numpy())\n",
        "print(\"reshaped tensor (3x3): \\n\",reshaped_tensor.numpy())\n",
        "\n",
        "tensor1_slice= tensor2[:,1]\n",
        "print(\"slicing tensor1:\\n\",tensor1_slice.numpy())\n"
      ],
      "metadata": {
        "colab": {
          "base_uri": "https://localhost:8080/"
        },
        "id": "QXNBmgEmhc_7",
        "outputId": "b2f2f3a1-7c52-4d00-8f82-8d41b797b928"
      },
      "execution_count": 7,
      "outputs": [
        {
          "output_type": "stream",
          "name": "stdout",
          "text": [
            "original tensor: \n",
            " [1 2 3 4 5 6 7 8 9]\n",
            "reshaped tensor (3x3): \n",
            " [[1 2 3]\n",
            " [4 5 6]\n",
            " [7 8 9]]\n",
            "slicing tensor1:\n",
            " [2 5]\n"
          ]
        }
      ]
    },
    {
      "cell_type": "markdown",
      "source": [
        "# 4 broadcasting"
      ],
      "metadata": {
        "id": "uROrLT-soe_D"
      }
    },
    {
      "cell_type": "code",
      "source": [
        "import tensorflow as tf\n",
        "a=tf.constant([1,2,3])\n",
        "b=tf.constant(2)\n",
        "\n",
        "c=a+b   # b is broadcast to [2,2,2]\n",
        "\n",
        "print(\"TENSOR a:\",a.numpy())\n",
        "print(\"tensor b:\",b.numpy())\n",
        "print(\"broadcasting result:\\n\",c.numpy())"
      ],
      "metadata": {
        "colab": {
          "base_uri": "https://localhost:8080/"
        },
        "id": "cziakWtwk7qT",
        "outputId": "07cd5ee2-1981-4ae8-a90b-012729268843"
      },
      "execution_count": 8,
      "outputs": [
        {
          "output_type": "stream",
          "name": "stdout",
          "text": [
            "TENSOR a: [1 2 3]\n",
            "tensor b: 2\n",
            "broadcasting result:\n",
            " [3 4 5]\n"
          ]
        }
      ]
    },
    {
      "cell_type": "markdown",
      "source": [
        "# basic operations in keras"
      ],
      "metadata": {
        "id": "Ypzr15YdphEu"
      }
    },
    {
      "cell_type": "markdown",
      "source": [
        "layer creating tool"
      ],
      "metadata": {
        "id": "89ctHlC0oC0Y"
      }
    },
    {
      "cell_type": "markdown",
      "source": [
        "importing keras modules"
      ],
      "metadata": {
        "id": "QQzne0ENsW9u"
      }
    },
    {
      "cell_type": "code",
      "source": [
        "#importing keras\n",
        "from tensorflow.keras.models import Sequential\n",
        "from tensorflow.keras.layers import Dense, Conv2D ,Flatten, Dropout\n",
        "from tensorflow.keras.optimizers import Adam\n",
        "from tensorflow.keras.losses import SparseCategoricalCrossentropy\n",
        "from tensorflow.keras.metrics import Accuracy"
      ],
      "metadata": {
        "id": "As_-QyqbpFYp"
      },
      "execution_count": 9,
      "outputs": []
    },
    {
      "cell_type": "code",
      "source": [
        "#step1 creating the sequential model\n",
        "model=Sequential()\n",
        "\n",
        "#step2: add layers to the model\n",
        "#add a hidden dense layer with 64 units and Relu Activation\n",
        "model.add(Dense(64,activation=\"relu\"))\n",
        "\n",
        "#add an output layer with 1 unit and sigmoid activation for binary classification\n",
        "\n",
        "model.add(Dense(1,activation=\"sigmoid\"))"
      ],
      "metadata": {
        "id": "F63SIMror0BV"
      },
      "execution_count": 10,
      "outputs": []
    },
    {
      "cell_type": "code",
      "source": [
        "model.compile(optimizer=Adam(),\n",
        "              loss=\"binary_crossentropy\",\n",
        "              metrics=[\"accuracy\"])"
      ],
      "metadata": {
        "id": "GC_1DmA6hifT"
      },
      "execution_count": 11,
      "outputs": []
    },
    {
      "cell_type": "code",
      "source": [
        "#generate dumy training data\n",
        "\n",
        "import numpy as np\n",
        "\n",
        "x_train= np.random.random((1000,20))\n",
        "y_train=np.random.randint(2,size=(1000,1))\n",
        "\n",
        "#train the model\n",
        "model.fit(x_train,y_train,epochs=10, batch_size=32)"
      ],
      "metadata": {
        "colab": {
          "base_uri": "https://localhost:8080/"
        },
        "id": "ZsNkUklzihyx",
        "outputId": "beef1a6c-679d-4d3a-ad93-08c6ac95ecdb"
      },
      "execution_count": 13,
      "outputs": [
        {
          "output_type": "stream",
          "name": "stdout",
          "text": [
            "Epoch 1/10\n",
            "\u001b[1m32/32\u001b[0m \u001b[32m━━━━━━━━━━━━━━━━━━━━\u001b[0m\u001b[37m\u001b[0m \u001b[1m0s\u001b[0m 2ms/step - accuracy: 0.5155 - loss: 0.6952 \n",
            "Epoch 2/10\n",
            "\u001b[1m32/32\u001b[0m \u001b[32m━━━━━━━━━━━━━━━━━━━━\u001b[0m\u001b[37m\u001b[0m \u001b[1m0s\u001b[0m 3ms/step - accuracy: 0.5146 - loss: 0.6959\n",
            "Epoch 3/10\n",
            "\u001b[1m32/32\u001b[0m \u001b[32m━━━━━━━━━━━━━━━━━━━━\u001b[0m\u001b[37m\u001b[0m \u001b[1m0s\u001b[0m 3ms/step - accuracy: 0.5437 - loss: 0.6889\n",
            "Epoch 4/10\n",
            "\u001b[1m32/32\u001b[0m \u001b[32m━━━━━━━━━━━━━━━━━━━━\u001b[0m\u001b[37m\u001b[0m \u001b[1m0s\u001b[0m 2ms/step - accuracy: 0.5296 - loss: 0.6889\n",
            "Epoch 5/10\n",
            "\u001b[1m32/32\u001b[0m \u001b[32m━━━━━━━━━━━━━━━━━━━━\u001b[0m\u001b[37m\u001b[0m \u001b[1m0s\u001b[0m 2ms/step - accuracy: 0.5482 - loss: 0.6881\n",
            "Epoch 6/10\n",
            "\u001b[1m32/32\u001b[0m \u001b[32m━━━━━━━━━━━━━━━━━━━━\u001b[0m\u001b[37m\u001b[0m \u001b[1m0s\u001b[0m 2ms/step - accuracy: 0.5497 - loss: 0.6856\n",
            "Epoch 7/10\n",
            "\u001b[1m32/32\u001b[0m \u001b[32m━━━━━━━━━━━━━━━━━━━━\u001b[0m\u001b[37m\u001b[0m \u001b[1m0s\u001b[0m 3ms/step - accuracy: 0.5666 - loss: 0.6825\n",
            "Epoch 8/10\n",
            "\u001b[1m32/32\u001b[0m \u001b[32m━━━━━━━━━━━━━━━━━━━━\u001b[0m\u001b[37m\u001b[0m \u001b[1m0s\u001b[0m 2ms/step - accuracy: 0.5475 - loss: 0.6827\n",
            "Epoch 9/10\n",
            "\u001b[1m32/32\u001b[0m \u001b[32m━━━━━━━━━━━━━━━━━━━━\u001b[0m\u001b[37m\u001b[0m \u001b[1m0s\u001b[0m 3ms/step - accuracy: 0.5530 - loss: 0.6879\n",
            "Epoch 10/10\n",
            "\u001b[1m32/32\u001b[0m \u001b[32m━━━━━━━━━━━━━━━━━━━━\u001b[0m\u001b[37m\u001b[0m \u001b[1m0s\u001b[0m 3ms/step - accuracy: 0.5817 - loss: 0.6794\n"
          ]
        },
        {
          "output_type": "execute_result",
          "data": {
            "text/plain": [
              "<keras.src.callbacks.history.History at 0x79477a3c97d0>"
            ]
          },
          "metadata": {},
          "execution_count": 13
        }
      ]
    },
    {
      "cell_type": "code",
      "source": [
        "#test\n",
        "x_test=np.random.random((100,20))\n",
        "y_test=np.random.randint(2,size=(100,1))\n",
        "\n",
        "loss , accuracy = model.evaluate(x_test,y_test)\n",
        "print(\"Test loss:\",loss)\n",
        "print(\"Test accuracy:\",accuracy)"
      ],
      "metadata": {
        "colab": {
          "base_uri": "https://localhost:8080/"
        },
        "id": "uqu7PX74kABX",
        "outputId": "2381cdf5-fb40-41c6-dc51-ee5feaeec4f2"
      },
      "execution_count": 14,
      "outputs": [
        {
          "output_type": "stream",
          "name": "stdout",
          "text": [
            "\u001b[1m4/4\u001b[0m \u001b[32m━━━━━━━━━━━━━━━━━━━━\u001b[0m\u001b[37m\u001b[0m \u001b[1m0s\u001b[0m 44ms/step - accuracy: 0.5266 - loss: 0.6937 \n",
            "Test loss: 0.6955958604812622\n",
            "Test accuracy: 0.5299999713897705\n"
          ]
        }
      ]
    },
    {
      "cell_type": "code",
      "source": [
        "x_new =np.random.random((10,20))    #10 new sample,each with 20 features\n",
        "predictions = model.predict(x_new)    # get model predictions\n",
        "\n",
        "print(\"predictions:\\n\",predictions)"
      ],
      "metadata": {
        "colab": {
          "base_uri": "https://localhost:8080/"
        },
        "id": "jzcGLU47o3pa",
        "outputId": "e9a36c16-d49b-457e-c3eb-b93433970a66"
      },
      "execution_count": 15,
      "outputs": [
        {
          "output_type": "stream",
          "name": "stdout",
          "text": [
            "\u001b[1m1/1\u001b[0m \u001b[32m━━━━━━━━━━━━━━━━━━━━\u001b[0m\u001b[37m\u001b[0m \u001b[1m0s\u001b[0m 150ms/step\n",
            "predictions:\n",
            " [[0.5912606 ]\n",
            " [0.5148782 ]\n",
            " [0.569538  ]\n",
            " [0.6012288 ]\n",
            " [0.535918  ]\n",
            " [0.49873585]\n",
            " [0.58637714]\n",
            " [0.59554416]\n",
            " [0.55007136]\n",
            " [0.49732184]]\n"
          ]
        }
      ]
    },
    {
      "cell_type": "code",
      "source": [],
      "metadata": {
        "id": "FOsdxvhYpPIn"
      },
      "execution_count": null,
      "outputs": []
    }
  ]
}